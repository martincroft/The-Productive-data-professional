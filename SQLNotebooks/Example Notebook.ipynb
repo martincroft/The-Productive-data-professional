{
    "metadata": {
        "kernelspec": {
            "name": "SQL",
            "display_name": "SQL",
            "language": "sql"
        },
        "language_info": {
            "name": "sql",
            "version": ""
        }
    },
    "nbformat_minor": 2,
    "nbformat": 4,
    "cells": [
        {
            "cell_type": "markdown",
            "source": [
                "\r\n",
                "----\r\n",
                "## Agenda\r\n",
                "\r\n",
                "\r\n",
                "####  1 Azure Data Studio SQL Notebooks\r\n",
                "###  2 Creating Performance Tuning Notebooks\r\n",
                "##  3 Using Tuning Notebooks\r\n",
                "#  4 CPU Stats and easy capture or server logins \r\n",
                ""
            ],
            "metadata": {}
        },
        {
            "cell_type": "markdown",
            "source": "[Can even embed links blogs post - http://blog.sqlserversolutions.co.uk](http://blog.sqlserversolutions.co.uk)",
            "metadata": {}
        },
        {
            "cell_type": "markdown",
            "source": [
                "## Lets capture server configuration \r\n",
                "![ServerInfo](file:///C://SQLServerSolutions/serverinfo.png)\r\n",
                "\r\n",
                ""
            ],
            "metadata": {}
        },
        {
            "cell_type": "code",
            "source": "EXEC sp_configure",
            "metadata": {},
            "outputs": [
                {
                    "output_type": "display_data",
                    "data": {
                        "text/html": "Commands completed successfully."
                    },
                    "metadata": {}
                },
                {
                    "output_type": "display_data",
                    "data": {
                        "text/html": "Total execution time: 00:00:00.169"
                    },
                    "metadata": {}
                },
                {
                    "output_type": "execute_result",
                    "metadata": {},
                    "execution_count": 1,
                    "data": {
                        "application/vnd.dataresource+json": {
                            "schema": {
                                "fields": [
                                    {
                                        "name": "name"
                                    },
                                    {
                                        "name": "minimum"
                                    },
                                    {
                                        "name": "maximum"
                                    },
                                    {
                                        "name": "config_value"
                                    },
                                    {
                                        "name": "run_value"
                                    }
                                ]
                            },
                            "data": [
                                {
                                    "0": "allow polybase export",
                                    "1": "0",
                                    "2": "1",
                                    "3": "0",
                                    "4": "0"
                                },
                                {
                                    "0": "allow updates",
                                    "1": "0",
                                    "2": "1",
                                    "3": "0",
                                    "4": "0"
                                },
                                {
                                    "0": "backup checksum default",
                                    "1": "0",
                                    "2": "1",
                                    "3": "0",
                                    "4": "0"
                                },
                                {
                                    "0": "backup compression default",
                                    "1": "0",
                                    "2": "1",
                                    "3": "0",
                                    "4": "0"
                                },
                                {
                                    "0": "clr enabled",
                                    "1": "0",
                                    "2": "1",
                                    "3": "0",
                                    "4": "0"
                                },
                                {
                                    "0": "contained database authentication",
                                    "1": "0",
                                    "2": "1",
                                    "3": "0",
                                    "4": "0"
                                },
                                {
                                    "0": "cross db ownership chaining",
                                    "1": "0",
                                    "2": "1",
                                    "3": "0",
                                    "4": "0"
                                },
                                {
                                    "0": "default language",
                                    "1": "0",
                                    "2": "9999",
                                    "3": "0",
                                    "4": "0"
                                },
                                {
                                    "0": "external scripts enabled",
                                    "1": "0",
                                    "2": "1",
                                    "3": "0",
                                    "4": "0"
                                },
                                {
                                    "0": "filestream access level",
                                    "1": "0",
                                    "2": "2",
                                    "3": "0",
                                    "4": "0"
                                },
                                {
                                    "0": "hadoop connectivity",
                                    "1": "0",
                                    "2": "7",
                                    "3": "0",
                                    "4": "0"
                                },
                                {
                                    "0": "max text repl size (B)",
                                    "1": "-1",
                                    "2": "2147483647",
                                    "3": "65536",
                                    "4": "65536"
                                },
                                {
                                    "0": "nested triggers",
                                    "1": "0",
                                    "2": "1",
                                    "3": "1",
                                    "4": "1"
                                },
                                {
                                    "0": "polybase network encryption",
                                    "1": "0",
                                    "2": "1",
                                    "3": "1",
                                    "4": "1"
                                },
                                {
                                    "0": "remote access",
                                    "1": "0",
                                    "2": "1",
                                    "3": "1",
                                    "4": "1"
                                },
                                {
                                    "0": "remote admin connections",
                                    "1": "0",
                                    "2": "1",
                                    "3": "0",
                                    "4": "0"
                                },
                                {
                                    "0": "remote data archive",
                                    "1": "0",
                                    "2": "1",
                                    "3": "0",
                                    "4": "0"
                                },
                                {
                                    "0": "remote login timeout (s)",
                                    "1": "0",
                                    "2": "2147483647",
                                    "3": "10",
                                    "4": "10"
                                },
                                {
                                    "0": "remote proc trans",
                                    "1": "0",
                                    "2": "1",
                                    "3": "0",
                                    "4": "0"
                                },
                                {
                                    "0": "remote query timeout (s)",
                                    "1": "0",
                                    "2": "2147483647",
                                    "3": "600",
                                    "4": "600"
                                },
                                {
                                    "0": "server trigger recursion",
                                    "1": "0",
                                    "2": "1",
                                    "3": "1",
                                    "4": "1"
                                },
                                {
                                    "0": "show advanced options",
                                    "1": "0",
                                    "2": "1",
                                    "3": "0",
                                    "4": "0"
                                },
                                {
                                    "0": "user options",
                                    "1": "0",
                                    "2": "32767",
                                    "3": "0",
                                    "4": "0"
                                }
                            ]
                        },
                        "text/html": "<table><tr><th>name</th><th>minimum</th><th>maximum</th><th>config_value</th><th>run_value</th></tr><tr><td>allow polybase export</td><td>0</td><td>1</td><td>0</td><td>0</td></tr><tr><td>allow updates</td><td>0</td><td>1</td><td>0</td><td>0</td></tr><tr><td>backup checksum default</td><td>0</td><td>1</td><td>0</td><td>0</td></tr><tr><td>backup compression default</td><td>0</td><td>1</td><td>0</td><td>0</td></tr><tr><td>clr enabled</td><td>0</td><td>1</td><td>0</td><td>0</td></tr><tr><td>contained database authentication</td><td>0</td><td>1</td><td>0</td><td>0</td></tr><tr><td>cross db ownership chaining</td><td>0</td><td>1</td><td>0</td><td>0</td></tr><tr><td>default language</td><td>0</td><td>9999</td><td>0</td><td>0</td></tr><tr><td>external scripts enabled</td><td>0</td><td>1</td><td>0</td><td>0</td></tr><tr><td>filestream access level</td><td>0</td><td>2</td><td>0</td><td>0</td></tr><tr><td>hadoop connectivity</td><td>0</td><td>7</td><td>0</td><td>0</td></tr><tr><td>max text repl size (B)</td><td>-1</td><td>2147483647</td><td>65536</td><td>65536</td></tr><tr><td>nested triggers</td><td>0</td><td>1</td><td>1</td><td>1</td></tr><tr><td>polybase network encryption</td><td>0</td><td>1</td><td>1</td><td>1</td></tr><tr><td>remote access</td><td>0</td><td>1</td><td>1</td><td>1</td></tr><tr><td>remote admin connections</td><td>0</td><td>1</td><td>0</td><td>0</td></tr><tr><td>remote data archive</td><td>0</td><td>1</td><td>0</td><td>0</td></tr><tr><td>remote login timeout (s)</td><td>0</td><td>2147483647</td><td>10</td><td>10</td></tr><tr><td>remote proc trans</td><td>0</td><td>1</td><td>0</td><td>0</td></tr><tr><td>remote query timeout (s)</td><td>0</td><td>2147483647</td><td>600</td><td>600</td></tr><tr><td>server trigger recursion</td><td>0</td><td>1</td><td>1</td><td>1</td></tr><tr><td>show advanced options</td><td>0</td><td>1</td><td>0</td><td>0</td></tr><tr><td>user options</td><td>0</td><td>32767</td><td>0</td><td>0</td></tr></table>"
                    }
                }
            ],
            "execution_count": 1
        }
    ]
}