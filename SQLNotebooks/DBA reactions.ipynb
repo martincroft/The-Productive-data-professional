{
    "metadata": {
        "kernelspec": {
            "name": "SQL",
            "display_name": "SQL",
            "language": "sql"
        },
        "language_info": {
            "name": "sql",
            "version": ""
        }
    },
    "nbformat_minor": 2,
    "nbformat": 4,
    "cells": [
        {
            "cell_type": "markdown",
            "source": "## When the developer hands the DBA a query without testing it and wants it put into production.",
            "metadata": {}
        },
        {
            "cell_type": "markdown",
            "source": "![DBA1](file:///c:/sqlserversolutions/itworks.gif)",
            "metadata": {}
        },
        {
            "cell_type": "markdown",
            "source": " ",
            "metadata": {}
        },
        {
            "cell_type": "markdown",
            "source": " ",
            "metadata": {}
        },
        {
            "cell_type": "markdown",
            "source": " ",
            "metadata": {}
        },
        {
            "cell_type": "markdown",
            "source": " ",
            "metadata": {}
        },
        {
            "cell_type": "markdown",
            "source": "# How SQL Server Handles Merge Replication",
            "metadata": {}
        },
        {
            "cell_type": "markdown",
            "source": "![DBA1](file:///c:/sqlserversolutions/replication.gif)",
            "metadata": {}
        },
        {
            "cell_type": "markdown",
            "source": [
                "\r\n",
                "\r\n",
                "\r\n",
                "\r\n",
                "\r\n",
                "\r\n",
                "\r\n",
                "\r\n",
                ""
            ],
            "metadata": {}
        },
        {
            "cell_type": "markdown",
            "source": " ",
            "metadata": {}
        },
        {
            "cell_type": "markdown",
            "source": " ",
            "metadata": {}
        },
        {
            "cell_type": "markdown",
            "source": " ",
            "metadata": {}
        },
        {
            "cell_type": "markdown",
            "source": " ",
            "metadata": {}
        },
        {
            "cell_type": "markdown",
            "source": " ",
            "metadata": {}
        },
        {
            "cell_type": "markdown",
            "source": [
                "# Realizing that not everyone appreciates DBAs.\r\n",
                "\r\n",
                "\r\n",
                "\r\n",
                "\r\n",
                "\r\n",
                "\r\n",
                "\r\n",
                "\r\n",
                "\r\n",
                ""
            ],
            "metadata": {}
        },
        {
            "cell_type": "markdown",
            "source": "![DBA1](file:///c:/sqlserversolutions/baddies.gif)",
            "metadata": {}
        },
        {
            "cell_type": "markdown",
            "source": "",
            "metadata": {}
        }
    ]
}