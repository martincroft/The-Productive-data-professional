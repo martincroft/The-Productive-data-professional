{
    "metadata": {
        "kernelspec": {
            "name": "SQL",
            "display_name": "SQL",
            "language": "sql"
        },
        "language_info": {
            "name": "sql",
            "version": ""
        }
    },
    "nbformat_minor": 2,
    "nbformat": 4,
    "cells": [
        {
            "cell_type": "markdown",
            "source": "## System Memory\r\n\r\nGood basic information about OS memory amounts and state ",
            "metadata": {}
        },
        {
            "cell_type": "code",
            "source": "SELECT physical_memory_in_use_kb/1024 AS [SQL Server Memory Usage (MB)],\r\n\t   locked_page_allocations_kb/1024 AS [SQL Server Locked Pages Allocation (MB)],\r\n       large_page_allocations_kb/1024 AS [SQL Server Large Pages Allocation (MB)], \r\n\t   page_fault_count, memory_utilization_percentage, available_commit_limit_kb, \r\n\t   process_physical_memory_low, process_virtual_memory_low\r\nFROM sys.dm_os_process_memory WITH (NOLOCK) OPTION (RECOMPILE);\r\n",
            "metadata": {},
            "outputs": [],
            "execution_count": 2
        },
        {
            "cell_type": "markdown",
            "source": "## CPU Utilization History\r\n\r\nGet CPU Utilization History for last 256 minutes (in one minute intervals) ",
            "metadata": {}
        },
        {
            "cell_type": "code",
            "source": "DECLARE @ts_now bigint = (SELECT cpu_ticks/(cpu_ticks/ms_ticks) FROM sys.dm_os_sys_info WITH (NOLOCK)); \r\nSELECT TOP(256) SQLProcessUtilization AS [SQL Server Process CPU Utilization], \r\n               SystemIdle AS [System Idle Process], \r\n               100 - SystemIdle - SQLProcessUtilization AS [Other Process CPU Utilization], \r\n               DATEADD(ms, -1 * (@ts_now - [timestamp]), GETDATE()) AS [Event Time] \r\nFROM (SELECT record.value('(./Record/@id)[1]', 'int') AS record_id, \r\n\t\t\trecord.value('(./Record/SchedulerMonitorEvent/SystemHealth/SystemIdle)[1]', 'int') \r\n\t\t\tAS [SystemIdle], \r\n\t\t\trecord.value('(./Record/SchedulerMonitorEvent/SystemHealth/ProcessUtilization)[1]', 'int') \r\n\t\t\tAS [SQLProcessUtilization], [timestamp] \r\n\t  FROM (SELECT [timestamp], CONVERT(xml, record) AS [record] \r\n\t\t\tFROM sys.dm_os_ring_buffers WITH (NOLOCK)\r\n\t\t\tWHERE ring_buffer_type = N'RING_BUFFER_SCHEDULER_MONITOR' \r\n\t\t\tAND record LIKE N'%<SystemHealth>%') AS x) AS y \r\nORDER BY record_id DESC OPTION (RECOMPILE);\r\n",
            "metadata": {},
            "outputs": [],
            "execution_count": 0
        }
    ]
}